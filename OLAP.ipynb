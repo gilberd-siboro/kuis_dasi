{
 "cells": [
  {
   "cell_type": "markdown",
   "id": "49cf92bf-8a1c-45b6-ab26-7919ce3e0ae0",
   "metadata": {},
   "source": [
    "# Define Dataset"
   ]
  },
  {
   "cell_type": "code",
   "execution_count": 1,
   "id": "44386b64-a55b-498b-98e2-0efe6c940c03",
   "metadata": {},
   "outputs": [
    {
     "name": "stdout",
     "output_type": "stream",
     "text": [
      "      tanggal      produk    lokasi  penjualan\n",
      "0  2024-01-31      Laptop   Jakarta        100\n",
      "1  2024-02-29      Laptop   Bandung        120\n",
      "2  2024-03-31      Laptop  Surabaya         90\n",
      "3  2024-04-30  Smartphone   Jakarta        200\n",
      "4  2024-05-31  Smartphone   Bandung        150\n",
      "5  2024-06-30  Smartphone  Surabaya        180\n",
      "6  2024-07-31      Tablet   Jakarta         50\n",
      "7  2024-08-31      Tablet   Bandung         70\n",
      "8  2024-09-30      Tablet  Surabaya         60\n",
      "9  2024-10-31      Laptop   Jakarta        130\n",
      "10 2024-11-30  Smartphone   Jakarta        220\n",
      "11 2024-12-31      Tablet   Bandung         80\n"
     ]
    },
    {
     "name": "stderr",
     "output_type": "stream",
     "text": [
      "C:\\Users\\Administrator\\AppData\\Local\\Temp\\ipykernel_3124\\1520995962.py:5: FutureWarning: 'M' is deprecated and will be removed in a future version, please use 'ME' instead.\n",
      "  \"tanggal\": pd.date_range(start=\"2024-01-01\", periods=12, freq=\"M\"),\n"
     ]
    }
   ],
   "source": [
    "import pandas as pd\n",
    "\n",
    "# Membuat dataset contoh\n",
    "data = {\n",
    "    \"tanggal\": pd.date_range(start=\"2024-01-01\", periods=12, freq=\"M\"),\n",
    "    \"produk\": [\"Laptop\", \"Laptop\", \"Laptop\", \"Smartphone\", \"Smartphone\", \"Smartphone\",\n",
    "               \"Tablet\", \"Tablet\", \"Tablet\", \"Laptop\", \"Smartphone\", \"Tablet\"],\n",
    "    \"lokasi\": [\"Jakarta\", \"Bandung\", \"Surabaya\", \"Jakarta\", \"Bandung\", \"Surabaya\",\n",
    "               \"Jakarta\", \"Bandung\", \"Surabaya\", \"Jakarta\", \"Jakarta\", \"Bandung\"],\n",
    "    \"penjualan\": [100, 120, 90, 200, 150, 180, 50, 70, 60, 130, 220, 80]\n",
    "}\n",
    "\n",
    "df = pd.DataFrame(data)\n",
    "print(df)\n"
   ]
  },
  {
   "cell_type": "markdown",
   "id": "95f15513-1fa3-4d41-a544-1f541139c299",
   "metadata": {},
   "source": [
    "# Membentuk Data Cube OLAP"
   ]
  },
  {
   "cell_type": "code",
   "execution_count": 2,
   "id": "596e2af5-84ce-446e-9ca9-5eebd9f5d9a0",
   "metadata": {},
   "outputs": [
    {
     "name": "stdout",
     "output_type": "stream",
     "text": [
      "\n",
      "Data Cube (Pivot Table):\n",
      "tanggal              2024-03-31  2024-06-30  2024-09-30  2024-12-31\n",
      "produk     lokasi                                                  \n",
      "Laptop     Bandung        120.0         NaN         NaN         NaN\n",
      "           Jakarta        100.0         NaN         NaN       130.0\n",
      "           Surabaya        90.0         NaN         NaN         NaN\n",
      "Smartphone Bandung          NaN       150.0         NaN         NaN\n",
      "           Jakarta          NaN       200.0         NaN       220.0\n",
      "           Surabaya         NaN       180.0         NaN         NaN\n",
      "Tablet     Bandung          NaN         NaN        70.0        80.0\n",
      "           Jakarta          NaN         NaN        50.0         NaN\n",
      "           Surabaya         NaN         NaN        60.0         NaN\n"
     ]
    },
    {
     "name": "stderr",
     "output_type": "stream",
     "text": [
      "C:\\Users\\Administrator\\AppData\\Local\\Temp\\ipykernel_3124\\1766942949.py:2: FutureWarning: 'Q' is deprecated and will be removed in a future version, please use 'QE' instead.\n",
      "  cube = df.pivot_table(values=\"penjualan\", index=[\"produk\", \"lokasi\"], columns=pd.Grouper(key=\"tanggal\", freq=\"Q\"), aggfunc=\"sum\")\n"
     ]
    }
   ],
   "source": [
    "# Membuat OLAP Cube menggunakan pivot_table\n",
    "cube = df.pivot_table(values=\"penjualan\", index=[\"produk\", \"lokasi\"], columns=pd.Grouper(key=\"tanggal\", freq=\"Q\"), aggfunc=\"sum\")\n",
    "\n",
    "print(\"\\nData Cube (Pivot Table):\")\n",
    "print(cube)\n"
   ]
  },
  {
   "cell_type": "markdown",
   "id": "3fff130b-e2b0-4231-8421-97dc84443713",
   "metadata": {},
   "source": [
    "# Query OLAP pada Data Cube"
   ]
  },
  {
   "cell_type": "code",
   "execution_count": 6,
   "id": "b8d1407a-a625-47f7-a41d-6ad1ac55c6fe",
   "metadata": {},
   "outputs": [
    {
     "name": "stdout",
     "output_type": "stream",
     "text": [
      "\n",
      "ROLL-UP: Total Penjualan per Produk\n",
      "            penjualan\n",
      "produk               \n",
      "Laptop            440\n",
      "Smartphone        750\n",
      "Tablet            260\n"
     ]
    }
   ],
   "source": [
    "# Roll Up\n",
    "\n",
    "rollup = df.groupby([\"produk\"]).agg({\"penjualan\": \"sum\"})\n",
    "print(\"\\nROLL-UP: Total Penjualan per Produk\")\n",
    "print(rollup)\n"
   ]
  },
  {
   "cell_type": "code",
   "execution_count": 7,
   "id": "2be2860f-1360-469e-b09b-b2990f61fc0c",
   "metadata": {},
   "outputs": [
    {
     "name": "stdout",
     "output_type": "stream",
     "text": [
      "\n",
      "DRILL-DOWN: Total Penjualan per Produk dan Lokasi\n",
      "                     penjualan\n",
      "produk     lokasi             \n",
      "Laptop     Bandung         120\n",
      "           Jakarta         230\n",
      "           Surabaya         90\n",
      "Smartphone Bandung         150\n",
      "           Jakarta         420\n",
      "           Surabaya        180\n",
      "Tablet     Bandung         150\n",
      "           Jakarta          50\n",
      "           Surabaya         60\n"
     ]
    }
   ],
   "source": [
    "# Drill Down\n",
    "\n",
    "drilldown = df.groupby([\"produk\", \"lokasi\"]).agg({\"penjualan\": \"sum\"})\n",
    "print(\"\\nDRILL-DOWN: Total Penjualan per Produk dan Lokasi\")\n",
    "print(drilldown)\n"
   ]
  },
  {
   "cell_type": "code",
   "execution_count": 8,
   "id": "467cf89c-dcd6-4870-8aa0-c47afdc0f2ff",
   "metadata": {},
   "outputs": [
    {
     "name": "stdout",
     "output_type": "stream",
     "text": [
      "\n",
      "SLICE: Penjualan Laptop\n",
      "     tanggal  produk    lokasi  penjualan\n",
      "0 2024-01-31  Laptop   Jakarta        100\n",
      "1 2024-02-29  Laptop   Bandung        120\n",
      "2 2024-03-31  Laptop  Surabaya         90\n",
      "9 2024-10-31  Laptop   Jakarta        130\n"
     ]
    }
   ],
   "source": [
    "#Slice \n",
    "\n",
    "slice_laptop = df[df[\"produk\"] == \"Laptop\"]\n",
    "print(\"\\nSLICE: Penjualan Laptop\")\n",
    "print(slice_laptop)\n"
   ]
  },
  {
   "cell_type": "code",
   "execution_count": 9,
   "id": "10797c97-6560-496a-8064-aa2f6dc65592",
   "metadata": {},
   "outputs": [
    {
     "name": "stdout",
     "output_type": "stream",
     "text": [
      "\n",
      "DICE: Penjualan Laptop di Jakarta\n",
      "     tanggal  produk   lokasi  penjualan\n",
      "0 2024-01-31  Laptop  Jakarta        100\n",
      "9 2024-10-31  Laptop  Jakarta        130\n"
     ]
    }
   ],
   "source": [
    "# Dice\n",
    "\n",
    "dice_laptop_jakarta = df[(df[\"produk\"] == \"Laptop\") & (df[\"lokasi\"] == \"Jakarta\")]\n",
    "print(\"\\nDICE: Penjualan Laptop di Jakarta\")\n",
    "print(dice_laptop_jakarta)\n"
   ]
  },
  {
   "cell_type": "code",
   "execution_count": null,
   "id": "c7753e38-81db-4618-9c53-5645ad920435",
   "metadata": {},
   "outputs": [],
   "source": []
  }
 ],
 "metadata": {
  "kernelspec": {
   "display_name": "Python 3 (ipykernel)",
   "language": "python",
   "name": "python3"
  },
  "language_info": {
   "codemirror_mode": {
    "name": "ipython",
    "version": 3
   },
   "file_extension": ".py",
   "mimetype": "text/x-python",
   "name": "python",
   "nbconvert_exporter": "python",
   "pygments_lexer": "ipython3",
   "version": "3.12.5"
  }
 },
 "nbformat": 4,
 "nbformat_minor": 5
}
